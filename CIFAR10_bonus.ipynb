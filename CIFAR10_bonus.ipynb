{
  "nbformat": 4,
  "nbformat_minor": 0,
  "metadata": {
    "colab": {
      "name": "CIFAR10_bonus.ipynb",
      "provenance": [],
      "collapsed_sections": []
    },
    "kernelspec": {
      "name": "python3",
      "display_name": "Python 3"
    },
    "accelerator": "GPU"
  },
  "cells": [
    {
      "cell_type": "code",
      "metadata": {
        "id": "gm_6-E9Emo5I",
        "outputId": "5c698bc3-ae0f-4950-b3bc-4ce952de14f4",
        "colab": {
          "base_uri": "https://localhost:8080/",
          "height": 34
        }
      },
      "source": [
        "from google.colab import drive\n",
        "drive.mount('/content/drive')"
      ],
      "execution_count": 2,
      "outputs": [
        {
          "output_type": "stream",
          "text": [
            "Drive already mounted at /content/drive; to attempt to forcibly remount, call drive.mount(\"/content/drive\", force_remount=True).\n"
          ],
          "name": "stdout"
        }
      ]
    },
    {
      "cell_type": "markdown",
      "metadata": {
        "id": "kIs_HD_KzB68"
      },
      "source": [
        "# N0.1"
      ]
    },
    {
      "cell_type": "code",
      "metadata": {
        "id": "MqpIVJfpmnd4"
      },
      "source": [
        "#Input library yang akan digunakan termasuk data cifar10\n",
        "from tensorflow.keras.datasets import cifar10\n",
        "import matplotlib.pyplot as plt\n",
        "import pandas as pd\n",
        "\n",
        "import cv2 as cv\n",
        "from google.colab.patches import cv2_imshow\n",
        "import matplotlib.pyplot as plt\n",
        "import numpy as np"
      ],
      "execution_count": 3,
      "outputs": []
    },
    {
      "cell_type": "code",
      "metadata": {
        "id": "53pzh1VQnc8U",
        "outputId": "6d217cbc-ddb0-4b6d-bfa5-990fac8860bb",
        "colab": {
          "base_uri": "https://localhost:8080/",
          "height": 353
        }
      },
      "source": [
        "#load dataset cifar10 kemudian menentukan feature train, feature test, label train, label test. Serta tampilkan 1 gambar untuk memastikan\n",
        "(feature_train, label_train), (feature_test, label_test) = cifar10.load_data()\n",
        "\n",
        "print(\"Train\", feature_train.shape, label_train.shape)\n",
        "print(\"Test\", feature_test.shape, label_test.shape)\n",
        "\n",
        "plt.imshow(feature_train[64], cmap=plt.get_cmap('gray'))"
      ],
      "execution_count": 4,
      "outputs": [
        {
          "output_type": "stream",
          "text": [
            "Downloading data from https://www.cs.toronto.edu/~kriz/cifar-10-python.tar.gz\n",
            "170500096/170498071 [==============================] - 11s 0us/step\n",
            "Train (50000, 32, 32, 3) (50000, 1)\n",
            "Test (10000, 32, 32, 3) (10000, 1)\n"
          ],
          "name": "stdout"
        },
        {
          "output_type": "execute_result",
          "data": {
            "text/plain": [
              "<matplotlib.image.AxesImage at 0x7f1a57229748>"
            ]
          },
          "metadata": {
            "tags": []
          },
          "execution_count": 4
        },
        {
          "output_type": "display_data",
          "data": {
            "image/png": "[encoded data removed]",
            "text/plain": [
              "<Figure size 432x288 with 1 Axes>"
            ]
          },
          "metadata": {
            "tags": [],
            "needs_background": "light"
          }
        }
      ]
    },
    {
      "cell_type": "code",
      "metadata": {
        "id": "KsQbwYT7oeDA",
        "outputId": "9fe8695d-e6e8-4938-db65-661e881917dd",
        "colab": {
          "base_uri": "https://localhost:8080/",
          "height": 86
        }
      },
      "source": [
        "#tampilkan shape dari feature dan label, ternyata dimensinya 3, harus diubah menjadi 1 dimensi\n",
        "print(feature_train.shape)\n",
        "print(label_train.shape)\n",
        "print(feature_test.shape)\n",
        "print(label_test.shape)"
      ],
      "execution_count": 5,
      "outputs": [
        {
          "output_type": "stream",
          "text": [
            "(50000, 32, 32, 3)\n",
            "(50000, 1)\n",
            "(10000, 32, 32, 3)\n",
            "(10000, 1)\n"
          ],
          "name": "stdout"
        }
      ]
    },
    {
      "cell_type": "markdown",
      "metadata": {
        "id": "Su56btqbxCEB"
      },
      "source": [
        "Feature Engineering"
      ]
    },
    {
      "cell_type": "code",
      "metadata": {
        "id": "ci_6gk7hrHxg"
      },
      "source": [
        "# normalize inputs from 0-255 to 0.0-1.0\n",
        "feature_train = feature_train.astype('float32')\n",
        "feature_test = feature_test.astype('float32')\n",
        "feature_train = feature_train / 255.0\n",
        "feature_test = feature_test / 255.0"
      ],
      "execution_count": 6,
      "outputs": []
    },
    {
      "cell_type": "code",
      "metadata": {
        "id": "3_tmGUioqJzB",
        "outputId": "16ef3cf9-2c32-49d3-ddb0-cbde063768de",
        "colab": {
          "base_uri": "https://localhost:8080/",
          "height": 152
        }
      },
      "source": [
        "#merubah jadi 1 dimensi atau grayscale (saya dapat dari website)\n",
        "import matplotlib.pyplot as plt\n",
        "\n",
        "def grayscale(data, dtype='float32'):\n",
        "    # luma coding weighted average in video systems\n",
        "    r, g, b = np.asarray(.3, dtype=dtype), np.asarray(.59, dtype=dtype), np.asarray(.11, dtype=dtype)\n",
        "    rst = r * data[:, :, :, 0] + g * data[:, :, :, 1] + b * data[:, :, :, 2]\n",
        "    # add channel dimension\n",
        "    rst = np.expand_dims(rst, axis=3)\n",
        "    return rst\n",
        "\n",
        "feature_train_gray = grayscale(feature_train)\n",
        "feature_test_gray = grayscale(feature_test)\n",
        "\n",
        "# now we have only one channel in the images\n",
        "img_channels = 1\n",
        "\n",
        "# plot a randomly chosen image\n",
        "img = 64\n",
        "plt.figure(figsize=(4, 2))\n",
        "plt.subplot(1, 2, 1)\n",
        "plt.imshow(feature_train[img], interpolation='none')\n",
        "plt.subplot(1, 2, 2)\n",
        "plt.imshow(feature_train_gray[img, :, :, 0], cmap=plt.get_cmap('gray'), interpolation='none')\n",
        "plt.show()"
      ],
      "execution_count": 7,
      "outputs": [
        {
          "output_type": "display_data",
          "data": {
            "image/png": "[encoded data removed]",
            "text/plain": [
              "<Figure size 288x144 with 2 Axes>"
            ]
          },
          "metadata": {
            "tags": [],
            "needs_background": "light"
          }
        }
      ]
    },
    {
      "cell_type": "code",
      "metadata": {
        "id": "5E3eHT2sqw1F",
        "outputId": "6b8a328c-e818-4247-c5a2-ee65367a58cd",
        "colab": {
          "base_uri": "https://localhost:8080/",
          "height": 34
        }
      },
      "source": [
        "print(feature_train_gray.shape)"
      ],
      "execution_count": 8,
      "outputs": [
        {
          "output_type": "stream",
          "text": [
            "(50000, 32, 32, 1)\n"
          ],
          "name": "stdout"
        }
      ]
    },
    {
      "cell_type": "code",
      "metadata": {
        "id": "cKNVMlVvtgBX",
        "outputId": "f230b528-1fd1-40a8-debc-e1805db03edd",
        "colab": {
          "base_uri": "https://localhost:8080/",
          "height": 1000
        }
      },
      "source": [
        "feature_train_gray"
      ],
      "execution_count": 9,
      "outputs": [
        {
          "output_type": "execute_result",
          "data": {
            "text/plain": [
              "array([[[[0.24003921],\n",
              "         [0.17643139],\n",
              "         [0.18843138],\n",
              "         ...,\n",
              "         [0.5378823 ],\n",
              "         [0.5120392 ],\n",
              "         [0.50545096]],\n",
              "\n",
              "        [[0.07372549],\n",
              "         [0.        ],\n",
              "         [0.03968628],\n",
              "         ...,\n",
              "         [0.37203923],\n",
              "         [0.35360783],\n",
              "         [0.36941177]],\n",
              "\n",
              "        [[0.094     ],\n",
              "         [0.03501961],\n",
              "         [0.12356863],\n",
              "         ...,\n",
              "         [0.35474512],\n",
              "         [0.35709804],\n",
              "         [0.3152549 ]],\n",
              "\n",
              "        ...,\n",
              "\n",
              "        [[0.679451  ],\n",
              "         [0.6051373 ],\n",
              "         [0.6166667 ],\n",
              "         ...,\n",
              "         [0.5261569 ],\n",
              "         [0.14062744],\n",
              "         [0.14964706]],\n",
              "\n",
              "        [[0.57478434],\n",
              "         [0.5062353 ],\n",
              "         [0.56494117],\n",
              "         ...,\n",
              "         [0.599451  ],\n",
              "         [0.2722353 ],\n",
              "         [0.23494117]],\n",
              "\n",
              "        [[0.591451  ],\n",
              "         [0.5366667 ],\n",
              "         [0.57666665],\n",
              "         ...,\n",
              "         [0.7402353 ],\n",
              "         [0.48690197],\n",
              "         [0.38862744]]],\n",
              "\n",
              "\n",
              "       [[[0.67137253],\n",
              "         [0.5238823 ],\n",
              "         [0.40513724],\n",
              "         ...,\n",
              "         [0.3574902 ],\n",
              "         [0.3412157 ],\n",
              "         [0.31054902]],\n",
              "\n",
              "        [[0.60780394],\n",
              "         [0.59101963],\n",
              "         [0.48717648],\n",
              "         ...,\n",
              "         [0.37564707],\n",
              "         [0.30243137],\n",
              "         [0.2787451 ]],\n",
              "\n",
              "        [[0.5940784 ],\n",
              "         [0.56560785],\n",
              "         [0.4496863 ],\n",
              "         ...,\n",
              "         [0.31027454],\n",
              "         [0.26568627],\n",
              "         [0.2621961 ]],\n",
              "\n",
              "        ...,\n",
              "\n",
              "        [[0.6638824 ],\n",
              "         [0.60886276],\n",
              "         [0.62470585],\n",
              "         ...,\n",
              "         [0.14360784],\n",
              "         [0.21898037],\n",
              "         [0.34070587]],\n",
              "\n",
              "        [[0.6056471 ],\n",
              "         [0.5912941 ],\n",
              "         [0.62082356],\n",
              "         ...,\n",
              "         [0.3777647 ],\n",
              "         [0.4602353 ],\n",
              "         [0.49058825]],\n",
              "\n",
              "        [[0.5859608 ],\n",
              "         [0.5809412 ],\n",
              "         [0.61007845],\n",
              "         ...,\n",
              "         [0.5359216 ],\n",
              "         [0.53952944],\n",
              "         [0.5380784 ]]],\n",
              "\n",
              "\n",
              "       [[[1.        ],\n",
              "         [0.9921568 ],\n",
              "         [0.9921568 ],\n",
              "         ...,\n",
              "         [0.9921568 ],\n",
              "         [0.9921568 ],\n",
              "         [0.9921568 ]],\n",
              "\n",
              "        [[1.        ],\n",
              "         [1.        ],\n",
              "         [1.        ],\n",
              "         ...,\n",
              "         [1.        ],\n",
              "         [1.        ],\n",
              "         [1.        ]],\n",
              "\n",
              "        [[1.        ],\n",
              "         [0.9960784 ],\n",
              "         [0.9960784 ],\n",
              "         ...,\n",
              "         [0.9960784 ],\n",
              "         [0.9960784 ],\n",
              "         [0.9960784 ]],\n",
              "\n",
              "        ...,\n",
              "\n",
              "        [[0.45890197],\n",
              "         [0.4514902 ],\n",
              "         [0.42839214],\n",
              "         ...,\n",
              "         [0.30662748],\n",
              "         [0.30388236],\n",
              "         [0.30388236]],\n",
              "\n",
              "        [[0.45105883],\n",
              "         [0.4240392 ],\n",
              "         [0.40399998],\n",
              "         ...,\n",
              "         [0.28501964],\n",
              "         [0.29054904],\n",
              "         [0.3214902 ]],\n",
              "\n",
              "        [[0.43145096],\n",
              "         [0.40399998],\n",
              "         [0.3883137 ],\n",
              "         ...,\n",
              "         [0.3242353 ],\n",
              "         [0.32541174],\n",
              "         [0.32933334]]],\n",
              "\n",
              "\n",
              "       ...,\n",
              "\n",
              "\n",
              "       [[[0.55439216],\n",
              "         [0.55737257],\n",
              "         [0.56058824],\n",
              "         ...,\n",
              "         [0.62047064],\n",
              "         [0.51803917],\n",
              "         [0.5286667 ]],\n",
              "\n",
              "        [[0.58909804],\n",
              "         [0.58533335],\n",
              "         [0.5857647 ],\n",
              "         ...,\n",
              "         [0.69090194],\n",
              "         [0.6642746 ],\n",
              "         [0.5567059 ]],\n",
              "\n",
              "        [[0.67333335],\n",
              "         [0.6212941 ],\n",
              "         [0.63109803],\n",
              "         ...,\n",
              "         [0.7612157 ],\n",
              "         [0.5157647 ],\n",
              "         [0.29337257]],\n",
              "\n",
              "        ...,\n",
              "\n",
              "        [[0.3018824 ],\n",
              "         [0.23745097],\n",
              "         [0.25537255],\n",
              "         ...,\n",
              "         [0.14015687],\n",
              "         [0.13      ],\n",
              "         [0.17101961]],\n",
              "\n",
              "        [[0.26145098],\n",
              "         [0.2637647 ],\n",
              "         [0.2942745 ],\n",
              "         ...,\n",
              "         [0.17035294],\n",
              "         [0.12384314],\n",
              "         [0.0752549 ]],\n",
              "\n",
              "        [[0.21282353],\n",
              "         [0.24478431],\n",
              "         [0.28109804],\n",
              "         ...,\n",
              "         [0.1852941 ],\n",
              "         [0.15266667],\n",
              "         [0.10741176]]],\n",
              "\n",
              "\n",
              "       [[[0.8140784 ],\n",
              "         [0.8018823 ],\n",
              "         [0.7979608 ],\n",
              "         ...,\n",
              "         [0.7536863 ],\n",
              "         [0.74698037],\n",
              "         [0.7425882 ]],\n",
              "\n",
              "        [[0.8172157 ],\n",
              "         [0.805451  ],\n",
              "         [0.8015294 ],\n",
              "         ...,\n",
              "         [0.7426667 ],\n",
              "         [0.73713726],\n",
              "         [0.7292549 ]],\n",
              "\n",
              "        [[0.8566667 ],\n",
              "         [0.84447056],\n",
              "         [0.840549  ],\n",
              "         ...,\n",
              "         [0.74141175],\n",
              "         [0.7351373 ],\n",
              "         [0.7334902 ]],\n",
              "\n",
              "        ...,\n",
              "\n",
              "        [[0.7820392 ],\n",
              "         [0.7654902 ],\n",
              "         [0.7669412 ],\n",
              "         ...,\n",
              "         [0.5190196 ],\n",
              "         [0.6208628 ],\n",
              "         [0.6399216 ]],\n",
              "\n",
              "        [[0.74588233],\n",
              "         [0.7097255 ],\n",
              "         [0.67313725],\n",
              "         ...,\n",
              "         [0.67407846],\n",
              "         [0.66419613],\n",
              "         [0.6633334 ]],\n",
              "\n",
              "        [[0.74486274],\n",
              "         [0.7110196 ],\n",
              "         [0.6670196 ],\n",
              "         ...,\n",
              "         [0.72803926],\n",
              "         [0.741647  ],\n",
              "         [0.74278426]]],\n",
              "\n",
              "\n",
              "       [[[0.9023529 ],\n",
              "         [0.932549  ],\n",
              "         [0.9278824 ],\n",
              "         ...,\n",
              "         [0.86250985],\n",
              "         [0.876902  ],\n",
              "         [0.8776471 ]],\n",
              "\n",
              "        [[0.87129414],\n",
              "         [0.9415686 ],\n",
              "         [0.9216471 ],\n",
              "         ...,\n",
              "         [0.8801176 ],\n",
              "         [0.89725494],\n",
              "         [0.83015686]],\n",
              "\n",
              "        [[0.8182353 ],\n",
              "         [0.91517645],\n",
              "         [0.91611767],\n",
              "         ...,\n",
              "         [0.8679216 ],\n",
              "         [0.86560786],\n",
              "         [0.8000784 ]],\n",
              "\n",
              "        ...,\n",
              "\n",
              "        [[0.5655687 ],\n",
              "         [0.5318432 ],\n",
              "         [0.500902  ],\n",
              "         ...,\n",
              "         [0.87121564],\n",
              "         [0.8951765 ],\n",
              "         [0.94380397]],\n",
              "\n",
              "        [[0.5209412 ],\n",
              "         [0.498549  ],\n",
              "         [0.47662744],\n",
              "         ...,\n",
              "         [0.70619607],\n",
              "         [0.78811765],\n",
              "         [0.826902  ]],\n",
              "\n",
              "        [[0.4680392 ],\n",
              "         [0.45466667],\n",
              "         [0.45745096],\n",
              "         ...,\n",
              "         [0.6947451 ],\n",
              "         [0.6422745 ],\n",
              "         [0.63835293]]]], dtype=float32)"
            ]
          },
          "metadata": {
            "tags": []
          },
          "execution_count": 9
        }
      ]
    },
    {
      "cell_type": "code",
      "metadata": {
        "id": "GlPiRpUGt-g6",
        "outputId": "fab7eeb0-8318-4c3b-8b04-ba4e5c174faf",
        "colab": {
          "base_uri": "https://localhost:8080/",
          "height": 138
        }
      },
      "source": [
        "#label dijadikan categorical\n",
        "from tensorflow.keras.utils import to_categorical\n",
        "\n",
        "label_train = to_categorical(label_train)\n",
        "label_test = to_categorical(label_test)\n",
        "\n",
        "print(label_train)"
      ],
      "execution_count": 10,
      "outputs": [
        {
          "output_type": "stream",
          "text": [
            "[[0. 0. 0. ... 0. 0. 0.]\n",
            " [0. 0. 0. ... 0. 0. 1.]\n",
            " [0. 0. 0. ... 0. 0. 1.]\n",
            " ...\n",
            " [0. 0. 0. ... 0. 0. 1.]\n",
            " [0. 1. 0. ... 0. 0. 0.]\n",
            " [0. 1. 0. ... 0. 0. 0.]]\n"
          ],
          "name": "stdout"
        }
      ]
    },
    {
      "cell_type": "code",
      "metadata": {
        "id": "p6BWe82ot-gW",
        "outputId": "6cdf0f3e-182e-4f9c-cc42-1dcbb66e289e",
        "colab": {
          "base_uri": "https://localhost:8080/",
          "height": 138
        }
      },
      "source": [
        "label_test"
      ],
      "execution_count": 11,
      "outputs": [
        {
          "output_type": "execute_result",
          "data": {
            "text/plain": [
              "array([[0., 0., 0., ..., 0., 0., 0.],\n",
              "       [0., 0., 0., ..., 0., 1., 0.],\n",
              "       [0., 0., 0., ..., 0., 1., 0.],\n",
              "       ...,\n",
              "       [0., 0., 0., ..., 0., 0., 0.],\n",
              "       [0., 1., 0., ..., 0., 0., 0.],\n",
              "       [0., 0., 0., ..., 1., 0., 0.]], dtype=float32)"
            ]
          },
          "metadata": {
            "tags": []
          },
          "execution_count": 11
        }
      ]
    },
    {
      "cell_type": "code",
      "metadata": {
        "id": "5tFDBK-Vudmz"
      },
      "source": [
        "#input library untuk training\n",
        "from tensorflow.keras.models import Sequential\n",
        "from tensorflow.keras.layers import Conv2D\n",
        "from tensorflow.keras.layers import MaxPooling2D\n",
        "from tensorflow.keras.layers import Dense\n",
        "from tensorflow.keras.layers import Flatten\n",
        "from tensorflow.keras.optimizers import SGD\n",
        "from tensorflow.keras.layers import BatchNormalization"
      ],
      "execution_count": 12,
      "outputs": []
    },
    {
      "cell_type": "markdown",
      "metadata": {
        "id": "ainbQvi5gfRN"
      },
      "source": [
        "MLP"
      ]
    },
    {
      "cell_type": "code",
      "metadata": {
        "id": "FY_-c7YZu4FP",
        "outputId": "8e8ba31b-c4f7-4195-cc4e-f93fd7127982",
        "colab": {
          "base_uri": "https://localhost:8080/",
          "height": 606
        }
      },
      "source": [
        "#Training Data menggunakan MLP\n",
        "base_model = Sequential()\n",
        "\n",
        "base_model.add(Flatten(input_shape=(32, 32, 1)))\n",
        "base_model.add(Dense(128, activation='relu', kernel_initializer='he_uniform')) # Activation relu dipakai, ini salah satu function yang paling banyak dipakai\n",
        "base_model.add(Dense(10, activation='softmax')) # Activation softmax dipakai untuk classification, nilai 10 karena terdapat 10 class (0-9)\n",
        "\n",
        "opt = SGD(lr=0.01, momentum=0.9) # Optimizer (Stochastic Gradient Descent), untuk mencari minima dari grafik fungsi loss\n",
        "\n",
        "base_model.compile(optimizer=opt, loss='categorical_crossentropy', metrics=['accuracy']) # Loss Function\n",
        "\n",
        "base_model.summary()\n",
        "\n",
        "history = base_model.fit(feature_train_gray, label_train, batch_size=32, validation_data=(feature_test_gray, label_test), epochs=10)"
      ],
      "execution_count": 13,
      "outputs": [
        {
          "output_type": "stream",
          "text": [
            "Model: \"sequential\"\n",
            "_________________________________________________________________\n",
            "Layer (type)                 Output Shape              Param #   \n",
            "=================================================================\n",
            "flatten (Flatten)            (None, 1024)              0         \n",
            "_________________________________________________________________\n",
            "dense (Dense)                (None, 128)               131200    \n",
            "_________________________________________________________________\n",
            "dense_1 (Dense)              (None, 10)                1290      \n",
            "=================================================================\n",
            "Total params: 132,490\n",
            "Trainable params: 132,490\n",
            "Non-trainable params: 0\n",
            "_________________________________________________________________\n",
            "Epoch 1/10\n",
            "1563/1563 [==============================] - 6s 4ms/step - loss: 2.0361 - accuracy: 0.2594 - val_loss: 1.9344 - val_accuracy: 0.3188\n",
            "Epoch 2/10\n",
            "1563/1563 [==============================] - 6s 4ms/step - loss: 1.9122 - accuracy: 0.3114 - val_loss: 1.8981 - val_accuracy: 0.3170\n",
            "Epoch 3/10\n",
            "1563/1563 [==============================] - 6s 4ms/step - loss: 1.8700 - accuracy: 0.3290 - val_loss: 1.8727 - val_accuracy: 0.3349\n",
            "Epoch 4/10\n",
            "1563/1563 [==============================] - 6s 4ms/step - loss: 1.8413 - accuracy: 0.3420 - val_loss: 1.8659 - val_accuracy: 0.3325\n",
            "Epoch 5/10\n",
            "1563/1563 [==============================] - 6s 4ms/step - loss: 1.8132 - accuracy: 0.3532 - val_loss: 1.8314 - val_accuracy: 0.3451\n",
            "Epoch 6/10\n",
            "1563/1563 [==============================] - 6s 4ms/step - loss: 1.7935 - accuracy: 0.3621 - val_loss: 1.7799 - val_accuracy: 0.3642\n",
            "Epoch 7/10\n",
            "1563/1563 [==============================] - 6s 4ms/step - loss: 1.7810 - accuracy: 0.3671 - val_loss: 1.7877 - val_accuracy: 0.3632\n",
            "Epoch 8/10\n",
            "1563/1563 [==============================] - 6s 4ms/step - loss: 1.7610 - accuracy: 0.3738 - val_loss: 1.8017 - val_accuracy: 0.3630\n",
            "Epoch 9/10\n",
            "1563/1563 [==============================] - 6s 4ms/step - loss: 1.7466 - accuracy: 0.3757 - val_loss: 1.7681 - val_accuracy: 0.3692\n",
            "Epoch 10/10\n",
            "1563/1563 [==============================] - 6s 4ms/step - loss: 1.7305 - accuracy: 0.3818 - val_loss: 1.7514 - val_accuracy: 0.3726\n"
          ],
          "name": "stdout"
        }
      ]
    },
    {
      "cell_type": "code",
      "metadata": {
        "id": "_Dj_OutTvm5A"
      },
      "source": [
        "#plot grafik loss metode MLP\n",
        "def plot_loss(history):\n",
        "  plt.plot(history.history['loss'], label='loss')\n",
        "  plt.plot(history.history['val_loss'], label='val_loss')\n",
        "  plt.xlabel('Epoch')\n",
        "  plt.ylabel('Loss')\n",
        "  plt.legend()\n",
        "  plt.grid(True)"
      ],
      "execution_count": 14,
      "outputs": []
    },
    {
      "cell_type": "code",
      "metadata": {
        "id": "qPOX3ijYvpel",
        "outputId": "30dbef56-8f24-46c4-ff6c-913974fcf834",
        "colab": {
          "base_uri": "https://localhost:8080/",
          "height": 356
        }
      },
      "source": [
        "history_dataframe = pd.DataFrame(history.history)\n",
        "history_dataframe['epoch'] = history.epoch\n",
        "history_dataframe"
      ],
      "execution_count": 15,
      "outputs": [
        {
          "output_type": "execute_result",
          "data": {
            "text/html": [
              "<div>\n",
              "<style scoped>\n",
              "    .dataframe tbody tr th:only-of-type {\n",
              "        vertical-align: middle;\n",
              "    }\n",
              "\n",
              "    .dataframe tbody tr th {\n",
              "        vertical-align: top;\n",
              "    }\n",
              "\n",
              "    .dataframe thead th {\n",
              "        text-align: right;\n",
              "    }\n",
              "</style>\n",
              "<table border=\"1\" class=\"dataframe\">\n",
              "  <thead>\n",
              "    <tr style=\"text-align: right;\">\n",
              "      <th></th>\n",
              "      <th>loss</th>\n",
              "      <th>accuracy</th>\n",
              "      <th>val_loss</th>\n",
              "      <th>val_accuracy</th>\n",
              "      <th>epoch</th>\n",
              "    </tr>\n",
              "  </thead>\n",
              "  <tbody>\n",
              "    <tr>\n",
              "      <th>0</th>\n",
              "      <td>2.036074</td>\n",
              "      <td>0.25944</td>\n",
              "      <td>1.934424</td>\n",
              "      <td>0.3188</td>\n",
              "      <td>0</td>\n",
              "    </tr>\n",
              "    <tr>\n",
              "      <th>1</th>\n",
              "      <td>1.912215</td>\n",
              "      <td>0.31136</td>\n",
              "      <td>1.898126</td>\n",
              "      <td>0.3170</td>\n",
              "      <td>1</td>\n",
              "    </tr>\n",
              "    <tr>\n",
              "      <th>2</th>\n",
              "      <td>1.869967</td>\n",
              "      <td>0.32900</td>\n",
              "      <td>1.872724</td>\n",
              "      <td>0.3349</td>\n",
              "      <td>2</td>\n",
              "    </tr>\n",
              "    <tr>\n",
              "      <th>3</th>\n",
              "      <td>1.841288</td>\n",
              "      <td>0.34200</td>\n",
              "      <td>1.865870</td>\n",
              "      <td>0.3325</td>\n",
              "      <td>3</td>\n",
              "    </tr>\n",
              "    <tr>\n",
              "      <th>4</th>\n",
              "      <td>1.813234</td>\n",
              "      <td>0.35324</td>\n",
              "      <td>1.831438</td>\n",
              "      <td>0.3451</td>\n",
              "      <td>4</td>\n",
              "    </tr>\n",
              "    <tr>\n",
              "      <th>5</th>\n",
              "      <td>1.793535</td>\n",
              "      <td>0.36208</td>\n",
              "      <td>1.779868</td>\n",
              "      <td>0.3642</td>\n",
              "      <td>5</td>\n",
              "    </tr>\n",
              "    <tr>\n",
              "      <th>6</th>\n",
              "      <td>1.781018</td>\n",
              "      <td>0.36708</td>\n",
              "      <td>1.787674</td>\n",
              "      <td>0.3632</td>\n",
              "      <td>6</td>\n",
              "    </tr>\n",
              "    <tr>\n",
              "      <th>7</th>\n",
              "      <td>1.761026</td>\n",
              "      <td>0.37376</td>\n",
              "      <td>1.801693</td>\n",
              "      <td>0.3630</td>\n",
              "      <td>7</td>\n",
              "    </tr>\n",
              "    <tr>\n",
              "      <th>8</th>\n",
              "      <td>1.746623</td>\n",
              "      <td>0.37570</td>\n",
              "      <td>1.768074</td>\n",
              "      <td>0.3692</td>\n",
              "      <td>8</td>\n",
              "    </tr>\n",
              "    <tr>\n",
              "      <th>9</th>\n",
              "      <td>1.730537</td>\n",
              "      <td>0.38184</td>\n",
              "      <td>1.751423</td>\n",
              "      <td>0.3726</td>\n",
              "      <td>9</td>\n",
              "    </tr>\n",
              "  </tbody>\n",
              "</table>\n",
              "</div>"
            ],
            "text/plain": [
              "       loss  accuracy  val_loss  val_accuracy  epoch\n",
              "0  2.036074   0.25944  1.934424        0.3188      0\n",
              "1  1.912215   0.31136  1.898126        0.3170      1\n",
              "2  1.869967   0.32900  1.872724        0.3349      2\n",
              "3  1.841288   0.34200  1.865870        0.3325      3\n",
              "4  1.813234   0.35324  1.831438        0.3451      4\n",
              "5  1.793535   0.36208  1.779868        0.3642      5\n",
              "6  1.781018   0.36708  1.787674        0.3632      6\n",
              "7  1.761026   0.37376  1.801693        0.3630      7\n",
              "8  1.746623   0.37570  1.768074        0.3692      8\n",
              "9  1.730537   0.38184  1.751423        0.3726      9"
            ]
          },
          "metadata": {
            "tags": []
          },
          "execution_count": 15
        }
      ]
    },
    {
      "cell_type": "code",
      "metadata": {
        "id": "kiQTVwksvsu4",
        "outputId": "e49e8a18-5e10-4352-c88e-e83a3865dd05",
        "colab": {
          "base_uri": "https://localhost:8080/",
          "height": 282
        }
      },
      "source": [
        "plot_loss(history) # epoch vs loss graph"
      ],
      "execution_count": 16,
      "outputs": [
        {
          "output_type": "display_data",
          "data": {
            "image/png": "[encoded data removed]",
            "text/plain": [
              "<Figure size 432x288 with 1 Axes>"
            ]
          },
          "metadata": {
            "tags": [],
            "needs_background": "light"
          }
        }
      ]
    },
    {
      "cell_type": "code",
      "metadata": {
        "id": "q-zRauZ3vsuR",
        "outputId": "27c676f2-07f2-4529-dd42-dd6f902869dc",
        "colab": {
          "base_uri": "https://localhost:8080/",
          "height": 69
        }
      },
      "source": [
        "loss, accuracy = base_model.evaluate(feature_test_gray,  label_test, verbose=2)\n",
        "\n",
        "print(\"Test accuracy:\", accuracy)\n",
        "print(\"Test loss:\", loss)"
      ],
      "execution_count": 17,
      "outputs": [
        {
          "output_type": "stream",
          "text": [
            "313/313 - 1s - loss: 1.7514 - accuracy: 0.3726\n",
            "Test accuracy: 0.3725999891757965\n",
            "Test loss: 1.7514232397079468\n"
          ],
          "name": "stdout"
        }
      ]
    },
    {
      "cell_type": "markdown",
      "metadata": {
        "id": "8vtCwXpqgbwl"
      },
      "source": [
        "CNN"
      ]
    },
    {
      "cell_type": "code",
      "metadata": {
        "id": "ry39CSKrwC4g",
        "outputId": "f28ef78d-21a3-4e6f-986e-8d5dc27cbd28",
        "colab": {
          "base_uri": "https://localhost:8080/",
          "height": 676
        }
      },
      "source": [
        "#training ke 2 menggunakan CNN\n",
        "model = Sequential()\n",
        "model.add(Conv2D(32, (3, 3), activation='relu', kernel_initializer='he_uniform', input_shape=(32, 32, 1))) # Convolution, 32 filters, masing-masing dengan kernel 3x3\n",
        "\n",
        "model.add(MaxPooling2D((2, 2))) # Pooling\n",
        "\n",
        "model.add(Flatten()) # Flatten hasil output\n",
        "\n",
        "# Fully connected layer\n",
        "model.add(Dense(200, activation='relu', kernel_initializer='he_uniform')) # Activation relu dipakai, salah satu function yang paling banyak dipakai\n",
        "model.add(Dense(10, activation='softmax')) # Activation softmax dipakai untuk classification, nilai 10 karena terdapat 10 class (0-9)\n",
        "\n",
        "opt = SGD(lr=0.01, momentum=0.9) # Optimizer (Stochastic Gradient Descent), untuk mencari minima dari grafik fungsi loss\n",
        "\n",
        "model.compile(optimizer=opt, loss='categorical_crossentropy', metrics=['accuracy']) # Loss Function\n",
        "\n",
        "model.summary()\n",
        "\n",
        "history_cnn = model.fit(feature_train_gray, label_train, batch_size=128, validation_data=(feature_test_gray, label_test), epochs=10)"
      ],
      "execution_count": 26,
      "outputs": [
        {
          "output_type": "stream",
          "text": [
            "Model: \"sequential_2\"\n",
            "_________________________________________________________________\n",
            "Layer (type)                 Output Shape              Param #   \n",
            "=================================================================\n",
            "conv2d_1 (Conv2D)            (None, 30, 30, 32)        320       \n",
            "_________________________________________________________________\n",
            "max_pooling2d_1 (MaxPooling2 (None, 15, 15, 32)        0         \n",
            "_________________________________________________________________\n",
            "flatten_2 (Flatten)          (None, 7200)              0         \n",
            "_________________________________________________________________\n",
            "dense_4 (Dense)              (None, 200)               1440200   \n",
            "_________________________________________________________________\n",
            "dense_5 (Dense)              (None, 10)                2010      \n",
            "=================================================================\n",
            "Total params: 1,442,530\n",
            "Trainable params: 1,442,530\n",
            "Non-trainable params: 0\n",
            "_________________________________________________________________\n",
            "Epoch 1/10\n",
            "391/391 [==============================] - 3s 9ms/step - loss: 2.0528 - accuracy: 0.2545 - val_loss: 1.8216 - val_accuracy: 0.3410\n",
            "Epoch 2/10\n",
            "391/391 [==============================] - 3s 8ms/step - loss: 1.6687 - accuracy: 0.3989 - val_loss: 1.5200 - val_accuracy: 0.4518\n",
            "Epoch 3/10\n",
            "391/391 [==============================] - 3s 7ms/step - loss: 1.4495 - accuracy: 0.4906 - val_loss: 1.4088 - val_accuracy: 0.5031\n",
            "Epoch 4/10\n",
            "391/391 [==============================] - 3s 7ms/step - loss: 1.3221 - accuracy: 0.5395 - val_loss: 1.3276 - val_accuracy: 0.5416\n",
            "Epoch 5/10\n",
            "391/391 [==============================] - 3s 7ms/step - loss: 1.2434 - accuracy: 0.5694 - val_loss: 1.3312 - val_accuracy: 0.5310\n",
            "Epoch 6/10\n",
            "391/391 [==============================] - 3s 7ms/step - loss: 1.1665 - accuracy: 0.5970 - val_loss: 1.2372 - val_accuracy: 0.5708\n",
            "Epoch 7/10\n",
            "391/391 [==============================] - 3s 7ms/step - loss: 1.0991 - accuracy: 0.6200 - val_loss: 1.2814 - val_accuracy: 0.5662\n",
            "Epoch 8/10\n",
            "391/391 [==============================] - 3s 7ms/step - loss: 1.0372 - accuracy: 0.6438 - val_loss: 1.1910 - val_accuracy: 0.5901\n",
            "Epoch 9/10\n",
            "391/391 [==============================] - 3s 7ms/step - loss: 0.9886 - accuracy: 0.6610 - val_loss: 1.2318 - val_accuracy: 0.5817\n",
            "Epoch 10/10\n",
            "391/391 [==============================] - 3s 7ms/step - loss: 0.9340 - accuracy: 0.6795 - val_loss: 1.1819 - val_accuracy: 0.5933\n"
          ],
          "name": "stdout"
        }
      ]
    },
    {
      "cell_type": "code",
      "metadata": {
        "id": "XxQQPzpUwC3w"
      },
      "source": [
        "#plot grafik loss metode CNN\n",
        "def plot_loss(history):\n",
        "  plt.plot(history.history['loss'], label='loss')\n",
        "  plt.plot(history.history['val_loss'], label='val_loss')\n",
        "  plt.xlabel('Epoch')\n",
        "  plt.ylabel('Loss')\n",
        "  plt.legend()\n",
        "  plt.grid(True)"
      ],
      "execution_count": 27,
      "outputs": []
    },
    {
      "cell_type": "code",
      "metadata": {
        "id": "33ICtGDsxgdS",
        "outputId": "2214aad7-840d-4bcf-e27e-1a97d6d3d7fa",
        "colab": {
          "base_uri": "https://localhost:8080/",
          "height": 278
        }
      },
      "source": [
        "plot_loss(history_cnn) # epoch vs loss graph"
      ],
      "execution_count": 28,
      "outputs": [
        {
          "output_type": "display_data",
          "data": {
            "image/png": "[encoded data removed]",
            "text/plain": [
              "<Figure size 432x288 with 1 Axes>"
            ]
          },
          "metadata": {
            "tags": [],
            "needs_background": "light"
          }
        }
      ]
    },
    {
      "cell_type": "code",
      "metadata": {
        "id": "u_B3pLkHxleO",
        "outputId": "4c63cc70-f7ec-4c53-f845-f6b7560c4d7c",
        "colab": {
          "base_uri": "https://localhost:8080/",
          "height": 69
        }
      },
      "source": [
        "loss, accuracy = model.evaluate(feature_test_gray,  label_test, verbose=2)\n",
        "\n",
        "print(\"Test accuracy:\", accuracy)\n",
        "print(\"Test loss:\", loss)"
      ],
      "execution_count": 29,
      "outputs": [
        {
          "output_type": "stream",
          "text": [
            "313/313 - 1s - loss: 1.1819 - accuracy: 0.5933\n",
            "Test accuracy: 0.5932999849319458\n",
            "Test loss: 1.1819216012954712\n"
          ],
          "name": "stdout"
        }
      ]
    },
    {
      "cell_type": "markdown",
      "metadata": {
        "id": "su4naH98xoU_"
      },
      "source": [
        "Akurasi yg tertinggi ada pada model wider yaitu 59.33% dengan loss 1.18"
      ]
    }
  ]
}